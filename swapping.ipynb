{
 "cells": [
  {
   "attachments": {},
   "cell_type": "markdown",
   "metadata": {},
   "source": [
    "## Discovery Document - After trial.ipynb\n",
    "\n",
    "After doing some investiation as well as discussing the logic puzzle with peers, it seems to be that the answer lies within how to <i>swap</i> islanders on the seesaw instead of removing them from the mix\n",
    "\n",
    "Also, this will give me a new templete to fix the error I was having before since I can't assign 0 to the weights of the villigers"
   ]
  },
  {
   "cell_type": "code",
   "execution_count": 5,
   "metadata": {},
   "outputs": [],
   "source": [
    "import random\n",
    "import matplotlib.pyplot as plt"
   ]
  },
  {
   "cell_type": "code",
   "execution_count": 19,
   "metadata": {},
   "outputs": [],
   "source": [
    "# PROBLEM SETUP\n",
    "islanders = [1] * 12\n",
    "rand_index = random.randint(0, 11)  # randomly select an index\n",
    "rand_value = random.choice([0.5, 1.5])  # randomly select a value slight over or underweight\n",
    "islanders[rand_index] = rand_value  # assign the random value to the random index"
   ]
  },
  {
   "attachments": {},
   "cell_type": "markdown",
   "metadata": {},
   "source": [
    "### Investiation/Visualization\n",
    "I would like to see how I can begin to just visualize who is on what side of the seesaw in order to make the code more conceptually easy to see what it is doing"
   ]
  },
  {
   "cell_type": "code",
   "execution_count": 20,
   "metadata": {},
   "outputs": [
    {
     "name": "stdout",
     "output_type": "stream",
     "text": [
      "[1, 1, 1, 1, 1, 1.5, 1, 1, 1, 1, 1, 1]\n"
     ]
    },
    {
     "data": {
      "image/png": "[encoded data removed]",
      "text/plain": [
       "<Figure size 640x480 with 1 Axes>"
      ]
     },
     "metadata": {},
     "output_type": "display_data"
    }
   ],
   "source": [
    "# Split the islanders into left and right sides\n",
    "left_side = islanders[:6]\n",
    "right_side = islanders[6:]\n",
    "\n",
    "# Calculate the weights of each side\n",
    "left_weight = sum(left_side)\n",
    "right_weight = sum(right_side)\n",
    "\n",
    "# Create a bar chart of the weights\n",
    "fig, ax = plt.subplots()\n",
    "ax.bar(['Left', 'Right'], [left_weight, right_weight])\n",
    "\n",
    "# Label the axes and title the chart\n",
    "ax.set_xlabel('Side of Seesaw')\n",
    "ax.set_ylabel('Weight')\n",
    "ax.set_title('Distribution of Weight of Islanders on Seesaw')\n",
    "\n",
    "print(islanders)\n"
   ]
  },
  {
   "attachments": {},
   "cell_type": "markdown",
   "metadata": {},
   "source": [
    "### Finding a Ground Truth\n",
    "\n",
    "One idea was to first determine if our islander was heavier or lighter since we don't know that initally. Let's see if this could be done with groups of 4 that swap being on and off the seesaw\n",
    "\n",
    "Here are the groups:\n",
    "- Group A: first 4 people => left side of seesaw\n",
    "- Group B: next 4 people => right side of seesaw\n",
    "- Group C: final 4 people => initally off the seeaw\n",
    "\n",
    "Note: My goal is to write the code in order to produce the solution to the logic puzzle for humans, not just to be able to solve it"
   ]
  },
  {
   "cell_type": "code",
   "execution_count": 30,
   "metadata": {},
   "outputs": [],
   "source": [
    "def find_different_4(islanders):\n",
    "    left_side = islanders[:4]\n",
    "    right_side = islanders[4:8]\n",
    "\n",
    "    group_A = sum(left_side)\n",
    "    group_B = sum(right_side)\n",
    "\n",
    "    val_sign = 0 # is the person overweight (+1) or under (-1)\n",
    "    val_group = \"0\" # will be A, B, or C\n",
    "    true_weight_4 = 0 # how much a side should weigh\n",
    "    true_weight_1 = 0 # how much one person should weigh => will make larger group math easier\n",
    "\n",
    "    if group_A == group_B: # get rid one one since neither of these contain the value\n",
    "        true_weight_4 = group_A\n",
    "        true_weight_1 = true_weight_4/4\n",
    "        val_group = \"C\"\n",
    "        left_side = islanders[8:]\n",
    "        group_C = sum(left_side)\n",
    "        if group_C < group_B:\n",
    "            val_sign = -1\n",
    "        else:\n",
    "            val_sign = 1\n",
    "    else: # the different person is in group A or B\n",
    "        # remove A for C\n",
    "        left_side = islanders[8:]\n",
    "        group_C = sum(left_side)\n",
    "        if group_C == group_B: # group A has the wrong member so they're not equal\n",
    "            val_group = \"A\"\n",
    "            true_weight_4 = group_C\n",
    "            true_weight_1 = true_weight_4/4\n",
    "            if group_A < group_B: # was lower on left before but is now equal\n",
    "                val_sign = -1\n",
    "            else:\n",
    "                val_sign = 1\n",
    "        else: # group B has the wrong member. This scale is still out of balance but it should be out of balance in the same way\n",
    "            val_group = \"B\"\n",
    "            true_weight_4 = group_C\n",
    "            true_weight_1 = true_weight_4/4\n",
    "            if group_B < group_C: # was lower on left before but is now equal\n",
    "                val_sign = -1\n",
    "            else:\n",
    "                val_sign = 1\n",
    "    return val_group, val_sign"
   ]
  },
  {
   "cell_type": "code",
   "execution_count": 31,
   "metadata": {},
   "outputs": [],
   "source": [
    "def new_problem():\n",
    "    # PROBLEM SETUP\n",
    "    islanders = [1] * 12\n",
    "    rand_index = random.randint(0, 11)  # randomly select an index\n",
    "    rand_value = random.choice([0.5, 1.5])  # randomly select a value slight over or underweight\n",
    "    islanders[rand_index] = rand_value  # assign the random value to the random index\n",
    "    return islanders"
   ]
  },
  {
   "cell_type": "code",
   "execution_count": 37,
   "metadata": {},
   "outputs": [
    {
     "name": "stdout",
     "output_type": "stream",
     "text": [
      "[1, 1, 1, 1, 1, 1, 1, 1, 1.5, 1, 1, 1]\n",
      "Differnece in Group: C\n",
      "Person sign is: 1\n"
     ]
    }
   ],
   "source": [
    "islanders = new_problem()\n",
    "group, sign = find_different_4(islanders)\n",
    "print(islanders)\n",
    "print(\"Differnece in Group: \"+group)\n",
    "print(\"Person sign is: \"+str(sign))"
   ]
  },
  {
   "attachments": {},
   "cell_type": "markdown",
   "metadata": {},
   "source": [
    "### Next Steps\n",
    "So, in 2 seesaw usages, we can determine 4 people who are the outlier and if they are heavier or lighter. Now we only have 1 seesaw usage left. Thinking about this, we can definitley narrow this down to 2 people by puttting 2 on each side of the seesaw but then we only have 2 people. This isn't helpful.\n",
    "\n",
    "I'm thinking a group size of 3 could get us where we might want to be but let's see..."
   ]
  },
  {
   "cell_type": "code",
   "execution_count": 38,
   "metadata": {},
   "outputs": [],
   "source": [
    "def find_different_3(islanders):\n",
    "    # let's skip the left side and right side stuff and just leave it in the comments\n",
    "\n",
    "    group_A = sum(islanders[:3])\n",
    "    group_B = sum(islanders[3:6])\n",
    "    group_C = sum(islanders[6:9])\n",
    "    group_D = sum(islanders[6:9])\n",
    "\n",
    "    val_sign = 0 # is the person overweight (+1) or under (-1)\n",
    "    val_group = \"0\" # will be A, B, or C\n",
    "\n",
    "    # We will begin with A on the left and B on the right\n",
    "\n",
    "    if group_A == group_B:\n",
    "        # We can conclude that the outlier is in either C OR D. Keep A on there for consistency \n",
    "        # and swap B and C\n",
    "        if group_A == group_C: # the seesaw is still even\n",
    "            val_group = \"D\" # the outlier is in D\n",
    "            #TODO: GET THE SIGN OUT OF D\n",
    "        # if it is not even, C contains the outlier\n",
    "        elif group_C < group_A:\n",
    "            val_group = \"C\"\n",
    "            val_sign = -1\n",
    "        else:\n",
    "            val_group = \"C\"\n",
    "            val_sign = 1\n",
    "    else: # the different person is in group A or B\n",
    "        # Swap B for C in order to determine if A or B is the outlier\n",
    "        if group_A  == group_C: # the seesaw becomes even\n",
    "            val_group = \"B\"\n",
    "            # we can set the sign value because we knew what A vs B was before\n",
    "            if group_A < group_B:\n",
    "                val_sign = 1\n",
    "            else:\n",
    "                val_sign = -1\n",
    "        elif group_A < group_C:\n",
    "            val_group = \"C\"\n",
    "            val_sign = 1\n",
    "        else:\n",
    "            val_group = \"C\"\n",
    "            val_sign = -1\n",
    "    return val_group, val_sign"
   ]
  },
  {
   "cell_type": "code",
   "execution_count": 42,
   "metadata": {},
   "outputs": [
    {
     "name": "stdout",
     "output_type": "stream",
     "text": [
      "[1, 1, 1, 1, 0.5, 1, 1, 1, 1, 1, 1, 1]\n",
      "Differnece in Group: B\n",
      "Person sign is: -1\n"
     ]
    }
   ],
   "source": [
    "islanders = new_problem()\n",
    "group, sign = find_different_3(islanders)\n",
    "print(islanders)\n",
    "print(\"Differnece in Group: \"+group)\n",
    "print(\"Person sign is: \"+str(sign))"
   ]
  },
  {
   "attachments": {},
   "cell_type": "markdown",
   "metadata": {},
   "source": [
    "From the code above, we can determine what group the player is in within 2 uses and what weight difference they are as long as they are not in group D. But, we now have 1 usage left and can easily figure out who they would be since we can do a 1 v 1 (ignoring group D => this will take some more work)"
   ]
  },
  {
   "cell_type": "code",
   "execution_count": 84,
   "metadata": {},
   "outputs": [],
   "source": [
    "def find_different(islanders):\n",
    "    group_A = sum(islanders[:3])\n",
    "    group_B = sum(islanders[3:6])\n",
    "    group_C = sum(islanders[6:9])\n",
    "    group_D = sum(islanders[6:9])\n",
    "\n",
    "    val_sign = 0 # is the person overweight (+1) or under (-1)\n",
    "    val_group = \"0\" # will be A, B, or C\n",
    "\n",
    "    # We will begin with A on the left and B on the right\n",
    "\n",
    "    if group_A == group_B:\n",
    "        # We can conclude that the outlier is in either C OR D. Keep A on there for consistency \n",
    "        # and swap B and C\n",
    "        if group_A == group_C: # the seesaw is still even\n",
    "            val_group = \"D\" # the outlier is in D\n",
    "            #TODO: GET THE SIGN OUT OF D\n",
    "        # if it is not even, C contains the outlier\n",
    "        elif group_C < group_A:\n",
    "            val_group = \"C\"\n",
    "            val_sign = -1\n",
    "        else:\n",
    "            val_group = \"C\"\n",
    "            val_sign = 1\n",
    "    else: # the different person is in group A or B\n",
    "        # Swap B for C in order to determine if A or B is the outlier\n",
    "        if group_A  == group_C: # the seesaw becomes even\n",
    "            val_group = \"B\"\n",
    "            # we can set the sign value because we knew what A vs B was before\n",
    "            if group_A < group_B:\n",
    "                val_sign = 1\n",
    "            else:\n",
    "                val_sign = -1\n",
    "        elif group_A < group_C:\n",
    "            val_group = \"C\"\n",
    "            val_sign = 1\n",
    "        else:\n",
    "            val_group = \"C\"\n",
    "            val_sign = -1\n",
    "    \n",
    "    # go thorough the groups and do a 1 v 1 comparison to identify the index \n",
    "    val_idx = -1\n",
    "    if val_group == \"A\":\n",
    "        index_options = [0, 1, 2]\n",
    "        # put 0 and 1 on the seesaw\n",
    "        if islanders[index_options[0]] == islanders[index_options[1]]:\n",
    "            # third position is the outlier\n",
    "            val_idx =index_options[2]\n",
    "        # we know if they weigh more or less now\n",
    "        elif val_sign == -1:\n",
    "            if islanders[index_options[0]] == -0.5:\n",
    "                val_idx = index_options[0]\n",
    "            else:\n",
    "                val_idx = index_options[1]\n",
    "        else:\n",
    "            if islanders[index_options[0]] == 1.5:\n",
    "                val_idx = index_options[0]\n",
    "            else:\n",
    "                val_idx = index_options[1]\n",
    "    elif val_group == \"B\":\n",
    "        index_options = [3, 4, 5]\n",
    "        if islanders[index_options[0]] == islanders[index_options[1]]:\n",
    "            # third position is the outlier\n",
    "            val_idx =index_options[2]\n",
    "        # we know if they weigh more or less now\n",
    "        elif val_sign == -1:\n",
    "            if islanders[index_options[0]] == -0.5:\n",
    "                val_idx = index_options[0]\n",
    "            else:\n",
    "                val_idx = index_options[1]\n",
    "        else:\n",
    "            if islanders[index_options[0]] == 1.5:\n",
    "                val_idx = index_options[0]\n",
    "            else:\n",
    "                val_idx = index_options[1]\n",
    "    elif val_group == \"C\":\n",
    "        index_options = [6, 7, 8]\n",
    "        if islanders[index_options[0]] == islanders[index_options[1]]:\n",
    "            # third position is the outlier\n",
    "            val_idx =index_options[2]\n",
    "        # we know if they weigh more or less now\n",
    "        elif val_sign == -1:\n",
    "            if islanders[index_options[0]] == -0.5:\n",
    "                val_idx = index_options[0]\n",
    "            else:\n",
    "                val_idx = index_options[1]\n",
    "        else:\n",
    "            if islanders[index_options[0]] == 1.5:\n",
    "                val_idx = index_options[0]\n",
    "            else:\n",
    "                val_idx = index_options[1]\n",
    "    elif val_group == \"D\":\n",
    "        index_options = [9, 10, 11]\n",
    "        # Here comes our larger issue. We don't have a value for vald_sign yet\n",
    "\n",
    "    return val_group, val_sign, val_idx"
   ]
  },
  {
   "cell_type": "code",
   "execution_count": 98,
   "metadata": {},
   "outputs": [
    {
     "name": "stdout",
     "output_type": "stream",
     "text": [
      "[0.5, 1, 1, 1, 1, 1, 1, 1, 1, 1, 1, 1]\n",
      "Differnece in Group: C\n",
      "Person sign is: 1\n",
      "Person index is: 8\n"
     ]
    }
   ],
   "source": [
    "islanders = new_problem()\n",
    "group, sign, idx = find_different(islanders)\n",
    "print(islanders)\n",
    "print(\"Differnece in Group: \"+group)\n",
    "print(\"Person sign is: \"+str(sign))\n",
    "print(\"Person index is: \"+str(idx))"
   ]
  },
  {
   "attachments": {},
   "cell_type": "markdown",
   "metadata": {},
   "source": [
    "### Group of 6 Swap Idea"
   ]
  },
  {
   "cell_type": "code",
   "execution_count": null,
   "metadata": {},
   "outputs": [],
   "source": [
    "def find_different(islanders):\n",
    "    A = sum(islanders[:4])\n",
    "    B1 = sum(islanders[4:6])\n",
    "    B2 = sum(islanders[6:8])\n",
    "    C = sum(islanders[8:])\n",
    "\n",
    "    val_sign = 0 # is the person overweight (+1) or under (-1)\n",
    "    val_group = \"0\" # will be A, B, or C\n",
    "\n",
    "    # USE 1: put everyone on the scale\n",
    "    left_1 = A + B1\n",
    "    right_1 = B2 + C\n",
    "\n",
    "    # USE 2: SWAP two groups of 4\n",
    "    left_2 = C + B1\n",
    "    right_2 = A + B2\n",
    "\n",
    "    # If the seesaw changed, the difference is in A or C\n",
    "    if left_2 != left_1:\n",
    "        A1 = sum(islanders[:2])\n",
    "        A2 = sum(islanders[2:4])\n",
    "        C1 = sum(islanders[8:10])\n",
    "        C2 = sum(islanders[10:])\n",
    "        left_3 = A1 + C1\n",
    "        right_3 = A2 + C2 # we ignore the B's for math but we actually keep them on the scale !\n",
    "        # the change is in C2 or A1\n",
    "        if left_3 != left_2:\n",
    "            \n",
    "        else: # the change is in A2 or C1\n",
    "\n",
    "\n",
    "\n",
    "    else: # the difference is in B1 or B2\n",
    "\n",
    "\n",
    "\n",
    "    return val_group, val_sign"
   ]
  }
 ],
 "metadata": {
  "kernelspec": {
   "display_name": "Python 3",
   "language": "python",
   "name": "python3"
  },
  "language_info": {
   "codemirror_mode": {
    "name": "ipython",
    "version": 3
   },
   "file_extension": ".py",
   "mimetype": "text/x-python",
   "name": "python",
   "nbconvert_exporter": "python",
   "pygments_lexer": "ipython3",
   "version": "3.10.10"
  },
  "orig_nbformat": 4,
  "vscode": {
   "interpreter": {
    "hash": "af5105622ac25e122015035f284bf7db6c48f9dde719ccc1a1f5aca2060025ad"
   }
  }
 },
 "nbformat": 4,
 "nbformat_minor": 2
}
