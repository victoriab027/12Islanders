{
 "cells": [
  {
   "cell_type": "markdown",
   "metadata": {},
   "source": [
    "This program is based on the 12 islander problem introduced in Broklynn 99\n",
    "\n",
    "The problem is:\n",
    "- There are 12 islanders who all weigh the same weight\n",
    "- You just learned that one of them is either heavier or lighter than the rest\n",
    "- There is a seesaw that you can use but only 3 times\n",
    "- How will you determien who the different islander is?\n",
    "\n",
    "Goal:\n",
    "1. Determine who the different islanders is\n",
    "2. Determine how to determine this\n"
   ]
  },
  {
   "cell_type": "code",
   "execution_count": 4,
   "metadata": {},
   "outputs": [],
   "source": [
    "import random"
   ]
  },
  {
   "cell_type": "code",
   "execution_count": 5,
   "metadata": {},
   "outputs": [],
   "source": [
    "succesful = []\n",
    "failures = []\n",
    "num = 100"
   ]
  },
  {
   "cell_type": "code",
   "execution_count": 11,
   "metadata": {},
   "outputs": [],
   "source": [
    "while(len(succesful) < num):\n",
    "    ## PROBLEM SETUP\n",
    "    islanders = [1] * 12\n",
    "    rand_index = random.randint(0, 11)  # randomly select an index between 0 and 11\n",
    "    rand_value = random.choice([0, 2])  # randomly select a value of -1 or 1 (over or underweight)\n",
    "    islanders[rand_index] = rand_value  # assign the random value to the random index\n",
    "\n",
    "\n",
    "    current_path = []\n",
    "    for attempt in range(0,3):\n",
    "        num_left = len(islanders)\n",
    "        if num_left > 1:\n",
    "            on_seesaw_left = random.randint(0, num_left-1)\n",
    "            on_seesaw_right = random.randint(on_seesaw_left+1, num_left)\n",
    "        \n",
    "            sum_left = sum(islanders[:on_seesaw_left])\n",
    "            sum_right = sum(islanders[on_seesaw_left:on_seesaw_right])\n",
    "\n",
    "            current_path.append([on_seesaw_left+1,on_seesaw_right-on_seesaw_left])\n",
    "        \n",
    "            if(sum_left == sum_right):#if they are the same, none of the islanders on the seesaw are different\n",
    "                islanders = islanders[on_seesaw_right:]\n",
    "            else: #someone in here is different\n",
    "                islanders = islanders[:on_seesaw_right]\n",
    "\n",
    "    if len(islanders) == 1:\n",
    "        succesful.append(current_path)\n",
    "    else:\n",
    "        failures.append(current_path)"
   ]
  },
  {
   "cell_type": "markdown",
   "metadata": {},
   "source": [
    "Now let's attempt it for all possible permutations of the problem!\n",
    "There are 104,850 different ways to arrange the seesaw for all 3 attempts. Let's just run it a few and see some proprtions"
   ]
  },
  {
   "cell_type": "code",
   "execution_count": 12,
   "metadata": {},
   "outputs": [
    {
     "name": "stdout",
     "output_type": "stream",
     "text": [
      "[[[8, 2], [4, 3], [2, 1]], [[4, 6], [1, 1], [1, 1]], [[4, 2], [3, 2], [1, 1]], [[1, 8], [2, 2], [1, 1]], [[2, 1], [1, 1], [1, 1]], [[3, 1], [2, 2], [1, 1]], [[7, 5], [1, 1], [1, 1]], [[2, 2], [1, 1], [1, 1]], [[1, 12], [9, 2], [1, 1]], [[4, 9], [1, 4], [2, 2]], [[5, 1], [1, 1], [1, 1]], [[2, 4], [1, 2], [1, 1]], [[5, 2], [3, 1], [1, 1]], [[8, 2], [8, 2], [5, 4]], [[5, 1], [3, 2], [1, 1]], [[5, 2], [3, 2], [1, 1]], [[6, 6], [1, 1], [1, 1]], [[6, 6], [1, 1], [1, 1]], [[1, 1], [1, 1], [1, 1]], [[5, 5], [2, 1], [1, 1]], [[5, 1], [2, 2], [2, 1]], [[2, 3], [3, 1], [1, 1]], [[2, 2], [1, 3], [1, 1]], [[4, 2], [1, 1]], [[11, 1], [6, 4], [1, 1]], [[6, 5], [1, 2], [1, 1]], [[1, 2], [1, 1]], [[7, 4], [3, 1], [1, 1]], [[2, 1], [2, 1], [1, 1]], [[1, 9], [5, 2], [3, 3]], [[5, 5], [2, 1]], [[11, 1], [1, 1]], [[5, 2], [1, 3], [1, 1]], [[7, 5]], [[6, 6]], [[5, 2], [4, 2], [3, 2]], [[1, 4], [4, 1], [1, 1]], [[1, 7], [5, 2], [1, 1]], [[1, 11], [1, 1]], [[6, 4], [1, 3], [2, 1]], [[1, 1]], [[7, 4], [6, 1], [1, 1]], [[7, 5], [1, 5], [3, 2]], [[2, 11], [10, 1], [5, 5]], [[3, 4], [4, 2], [3, 2]], [[8, 2], [1, 1]], [[2, 4], [5, 1], [3, 2]], [[11, 1], [1, 1]], [[4, 1], [3, 1]], [[4, 9], [6, 5], [1, 1]], [[2, 2], [2, 1]], [[11, 2], [12, 1], [1, 1]], [[6, 6]], [[7, 5]], [[8, 1], [6, 1], [4, 2]], [[3, 9], [4, 2], [1, 1]], [[8, 4], [1, 5], [3, 2]], [[1, 3], [3, 1], [1, 1]], [[12, 1], [6, 2], [4, 3]], [[9, 1], [6, 3], [4, 4]], [[1, 1]], [[6, 1], [5, 2], [1, 1]], [[6, 4], [1, 1]], [[6, 2], [1, 3], [2, 1]], [[10, 1], [2, 3], [1, 1]], [[11, 1], [1, 1]], [[3, 1], [3, 1], [1, 1]], [[6, 4], [1, 1]], [[5, 5], [1, 1]], [[1, 5], [1, 3], [1, 1]], [[4, 8], [9, 3], [1, 1]], [[9, 4], [7, 2], [5, 3]], [[3, 3], [2, 3], [1, 1]], [[4, 1], [1, 2], [1, 1]], [[4, 3], [3, 3]], [[6, 6]], [[6, 2], [1, 1]], [[11, 1], [5, 3], [4, 3]], [[6, 3], [4, 4]], [[3, 8], [3, 6], [5, 3]], [[3, 4], [5, 2], [1, 1]], [[5, 6], [5, 3], [2, 1]], [[1, 1]], [[4, 1], [2, 1], [1, 1]], [[2, 1], [6, 4]], [[1, 6], [6, 1], [1, 1]], [[1, 2], [1, 1]], [[1, 3], [1, 1]], [[12, 1], [7, 5]], [[5, 3], [4, 2], [1, 1]], [[7, 5]], [[12, 1], [1, 1]], [[1, 1]], [[7, 2], [3, 2], [2, 2]], [[1, 3], [3, 1], [1, 1]], [[6, 6]], [[8, 4], [1, 1]], [[1, 9], [1, 4], [2, 2]], [[3, 1], [1, 3], [2, 1]], [[7, 5]]]\n",
      "718\n"
     ]
    }
   ],
   "source": [
    "print(succesful)\n",
    "print(len(failures))"
   ]
  },
  {
   "cell_type": "markdown",
   "metadata": {},
   "source": [
    "## Data Visualization"
   ]
  },
  {
   "cell_type": "code",
   "execution_count": 13,
   "metadata": {},
   "outputs": [],
   "source": [
    "import matplotlib.pyplot as plt"
   ]
  },
  {
   "cell_type": "code",
   "execution_count": 14,
   "metadata": {},
   "outputs": [],
   "source": [
    "counts = {}\n",
    "for sublist in succesful:\n",
    "    first_idx = frozenset(sublist[0])\n",
    "    counts[first_idx] = counts.get(first_idx,0)+1"
   ]
  },
  {
   "cell_type": "code",
   "execution_count": 15,
   "metadata": {},
   "outputs": [
    {
     "name": "stdout",
     "output_type": "stream",
     "text": [
      "1.5\n"
     ]
    }
   ],
   "source": [
    "# Get rid of any that have a less than 1 % success rate\n",
    "rate = 0.015\n",
    "filter = rate * num\n",
    "print(filter)\n",
    "counts = {k: v for k, v in counts.items() if v >= int(filter)}"
   ]
  },
  {
   "cell_type": "code",
   "execution_count": 16,
   "metadata": {},
   "outputs": [
    {
     "data": {
      "image/png": "[encoded data removed]",
      "text/plain": [
       "<Figure size 640x480 with 1 Axes>"
      ]
     },
     "metadata": {},
     "output_type": "display_data"
    }
   ],
   "source": [
    "plt.bar(range(len(counts)),list(counts.values()),align = 'center')\n",
    "plt.xticks(range(len(counts)),list(counts.keys()),rotation='vertical',fontsize=5)\n",
    "plt.xlabel(\"First Sucessful Attempt Numbers\")\n",
    "plt.ylabel(\"Count\")\n",
    "plt.show()"
   ]
  },
  {
   "cell_type": "markdown",
   "metadata": {},
   "source": [
    "Now display the successful second attemps based on these successful first attempts"
   ]
  },
  {
   "cell_type": "code",
   "execution_count": 17,
   "metadata": {},
   "outputs": [
    {
     "ename": "IndexError",
     "evalue": "list index out of range",
     "output_type": "error",
     "traceback": [
      "\u001b[0;31m---------------------------------------------------------------------------\u001b[0m",
      "\u001b[0;31mIndexError\u001b[0m                                Traceback (most recent call last)",
      "Cell \u001b[0;32mIn[17], line 5\u001b[0m\n\u001b[1;32m      3\u001b[0m first_idx \u001b[38;5;241m=\u001b[39m \u001b[38;5;28mfrozenset\u001b[39m(sublist[\u001b[38;5;241m0\u001b[39m])\n\u001b[1;32m      4\u001b[0m \u001b[38;5;28;01mif\u001b[39;00m first_idx \u001b[38;5;129;01min\u001b[39;00m counts:\n\u001b[0;32m----> 5\u001b[0m     second_idx \u001b[38;5;241m=\u001b[39m \u001b[38;5;28mfrozenset\u001b[39m(\u001b[43msublist\u001b[49m\u001b[43m[\u001b[49m\u001b[38;5;241;43m1\u001b[39;49m\u001b[43m]\u001b[49m)\n\u001b[1;32m      6\u001b[0m     second_counts[second_idx] \u001b[38;5;241m=\u001b[39m second_counts\u001b[38;5;241m.\u001b[39mget(second_idx,\u001b[38;5;241m0\u001b[39m)\u001b[38;5;241m+\u001b[39m\u001b[38;5;241m1\u001b[39m\n",
      "\u001b[0;31mIndexError\u001b[0m: list index out of range"
     ]
    }
   ],
   "source": [
    "second_counts = {}\n",
    "for sublist in succesful:\n",
    "    first_idx = frozenset(sublist[0])\n",
    "    if first_idx in counts:\n",
    "        second_idx = frozenset(sublist[1])\n",
    "        second_counts[second_idx] = second_counts.get(second_idx,0)+1"
   ]
  },
  {
   "cell_type": "code",
   "execution_count": 18,
   "metadata": {},
   "outputs": [
    {
     "name": "stdout",
     "output_type": "stream",
     "text": [
      "1500\n"
     ]
    }
   ],
   "source": [
    "# Get rid of any that have a less than 1 % success rate\n",
    "rate = 0.015\n",
    "filter = 1500#rate * len(second_counts)\n",
    "print(filter)\n",
    "second_counts = {k: v for k, v in second_counts.items() if v >= int(filter)}"
   ]
  },
  {
   "cell_type": "code",
   "execution_count": 59,
   "metadata": {},
   "outputs": [
    {
     "data": {
      "image/png": "[encoded data removed]",
      "text/plain": [
       "<Figure size 640x480 with 1 Axes>"
      ]
     },
     "metadata": {},
     "output_type": "display_data"
    }
   ],
   "source": [
    "plt.bar(range(len(second_counts)),list(second_counts.values()),align = 'center')\n",
    "plt.xticks(range(len(second_counts)),list(second_counts.keys()),rotation='vertical',fontsize=5)\n",
    "plt.xlabel(\"Second Sucessful Attempt Numbers\")\n",
    "plt.ylabel(\"Count\")\n",
    "plt.show()"
   ]
  },
  {
   "cell_type": "markdown",
   "metadata": {},
   "source": [
    "Now for the final attempt"
   ]
  },
  {
   "cell_type": "code",
   "execution_count": 60,
   "metadata": {},
   "outputs": [],
   "source": [
    "third_counts = {}\n",
    "for sublist in succesful:\n",
    "    second_idx = frozenset(sublist[1])\n",
    "    if second_idx in second_counts:\n",
    "        third_idx = frozenset(sublist[2])\n",
    "        third_counts[third_idx] = third_counts.get(third_idx,0)+1"
   ]
  },
  {
   "cell_type": "code",
   "execution_count": 61,
   "metadata": {},
   "outputs": [
    {
     "data": {
      "image/png": "[encoded data removed]",
      "text/plain": [
       "<Figure size 640x480 with 1 Axes>"
      ]
     },
     "metadata": {},
     "output_type": "display_data"
    }
   ],
   "source": [
    "plt.bar(range(len(third_counts)),list(third_counts.values()),align = 'center')\n",
    "plt.xticks(range(len(third_counts)),list(third_counts.keys()),rotation='vertical',fontsize=5)\n",
    "plt.xlabel(\"Third Sucessful Attempt Numbers\")\n",
    "plt.ylabel(\"Count\")\n",
    "plt.show()"
   ]
  },
  {
   "cell_type": "markdown",
   "metadata": {},
   "source": [
    "## Takeaways\n",
    "All that really showed me was that if you get to 1 on the second attempt it's really easy! I need to find a new way to approach it so that every time we can figure it out with 100% confidence.\n",
    "\n",
    "What I'm thinking:\n",
    "- For every succesfull solution, I make it solve it again with the same numbers. If it can solve it TWICE, then I can take it into consideration and do it be hand. If not, I'll need to reject it and keep looking"
   ]
  },
  {
   "cell_type": "code",
   "execution_count": 74,
   "metadata": {},
   "outputs": [],
   "source": [
    "succesful = []\n",
    "failures = []\n",
    "num = 10"
   ]
  },
  {
   "cell_type": "code",
   "execution_count": 75,
   "metadata": {},
   "outputs": [],
   "source": [
    "was_just_successful = False\n",
    "while(len(succesful) < num):\n",
    "    ## PROBLEM SETUP\n",
    "    islanders = [0] * 12\n",
    "    rand_index = random.randint(0, 11)  # randomly select an index between 0 and 11\n",
    "    rand_value = random.choice([-1, 1])  # randomly select a value of -1 or 1 (over or underweight)\n",
    "    islanders[rand_index] = rand_value  # assign the random value to the random index\n",
    "    \n",
    "    if was_just_successful:\n",
    "        for attempt in range(0,3):\n",
    "            num_left = len(islanders)\n",
    "            on_seesaw_left = current_path[0][0]-1 # subtract one for the indexs\n",
    "            on_seesaw_right = current_path[0][1]-1\n",
    "        \n",
    "            sum_left = sum(islanders[:on_seesaw_left])\n",
    "            sum_right = sum(islanders[on_seesaw_left:on_seesaw_right])\n",
    "        \n",
    "            if(sum_left == sum_right):#if they are the same, none of the islanders on the seesaw are different\n",
    "                islanders = islanders[on_seesaw_right:]\n",
    "            else: #someone in here is different\n",
    "                islanders = islanders[:on_seesaw_right]\n",
    "    \n",
    "        if len(islanders) == 1:\n",
    "            succesful.append(current_path)\n",
    "        \n",
    "        # for now, only attempt again once\n",
    "        was_just_successful = False\n",
    "        current_path = []\n",
    "    \n",
    "    else:\n",
    "        current_path = []\n",
    "        for attempt in range(0,3):\n",
    "            num_left = len(islanders)\n",
    "            on_seesaw_left = random.randint(0, num_left-1)\n",
    "            on_seesaw_right = random.randint(on_seesaw_left+1, num_left)\n",
    "        \n",
    "            sum_left = sum(islanders[:on_seesaw_left])\n",
    "            sum_right = sum(islanders[on_seesaw_left:on_seesaw_right])\n",
    "\n",
    "            current_path.append([on_seesaw_left+1,on_seesaw_right-on_seesaw_left])\n",
    "        \n",
    "            if(sum_left == sum_right):#if they are the same, none of the islanders on the seesaw are different\n",
    "                islanders = islanders[on_seesaw_right:]\n",
    "            else: #someone in here is different\n",
    "                islanders = islanders[:on_seesaw_right]\n",
    "        if len(islanders) == 1:\n",
    "            was_just_successful = True"
   ]
  },
  {
   "cell_type": "code",
   "execution_count": 76,
   "metadata": {},
   "outputs": [
    {
     "name": "stdout",
     "output_type": "stream",
     "text": [
      "[[[7, 2], [3, 5], [1, 1]], [[9, 2], [1, 1], [1, 1]], [[11, 2], [8, 4], [1, 1]], [[7, 2], [7, 1], [1, 1]], [[2, 2], [1, 1], [1, 1]], [[11, 2], [8, 4], [1, 1]], [[1, 2], [1, 1], [1, 1]], [[9, 2], [2, 1], [1, 1]], [[8, 2], [5, 2], [3, 3]], [[10, 2], [3, 6], [1, 1]]]\n"
     ]
    }
   ],
   "source": [
    "print(succesful)"
   ]
  },
  {
   "cell_type": "markdown",
   "metadata": {},
   "source": [
    "Okay now we have 10 options for options that can be successful twice! But this doesn't gaurntee 100% accuracy like a logic puzzle should!"
   ]
  },
  {
   "cell_type": "markdown",
   "metadata": {},
   "source": [
    "## Final Ideas\n",
    "What my final idea is:\n",
    "- If I find something that is successful, loop through and put the different islander in every position\n",
    "- Keep going through until it breaks"
   ]
  },
  {
   "cell_type": "code",
   "execution_count": 42,
   "metadata": {},
   "outputs": [],
   "source": [
    "succesful = []\n",
    "num = 2"
   ]
  },
  {
   "cell_type": "code",
   "execution_count": 43,
   "metadata": {},
   "outputs": [
    {
     "ename": "KeyboardInterrupt",
     "evalue": "",
     "output_type": "error",
     "traceback": [
      "\u001b[0;31m---------------------------------------------------------------------------\u001b[0m",
      "\u001b[0;31mKeyboardInterrupt\u001b[0m                         Traceback (most recent call last)",
      "Cell \u001b[0;32mIn[43], line 6\u001b[0m\n\u001b[1;32m      2\u001b[0m \u001b[38;5;28;01mwhile\u001b[39;00m(\u001b[38;5;28mlen\u001b[39m(succesful) \u001b[38;5;241m<\u001b[39m num):\n\u001b[1;32m      3\u001b[0m     \u001b[38;5;66;03m## PROBLEM SETUP\u001b[39;00m\n\u001b[1;32m      5\u001b[0m     \u001b[38;5;28;01mwhile\u001b[39;00m was_just_successful:\n\u001b[0;32m----> 6\u001b[0m         \u001b[38;5;28;01mfor\u001b[39;00m idx \u001b[38;5;129;01min\u001b[39;00m \u001b[38;5;28;43mrange\u001b[39;49m\u001b[43m \u001b[49m\u001b[43m(\u001b[49m\u001b[38;5;241;43m0\u001b[39;49m\u001b[43m,\u001b[49m\u001b[38;5;28;43mlen\u001b[39;49m\u001b[43m(\u001b[49m\u001b[43mislanders\u001b[49m\u001b[43m)\u001b[49m\u001b[43m)\u001b[49m:\n\u001b[1;32m      7\u001b[0m             islanders \u001b[38;5;241m=\u001b[39m [\u001b[38;5;241m1\u001b[39m] \u001b[38;5;241m*\u001b[39m \u001b[38;5;241m12\u001b[39m\n\u001b[1;32m      8\u001b[0m             rand_value \u001b[38;5;241m=\u001b[39m random\u001b[38;5;241m.\u001b[39mchoice([\u001b[38;5;241m-\u001b[39m\u001b[38;5;241m1\u001b[39m, \u001b[38;5;241m1\u001b[39m])  \u001b[38;5;66;03m# randomly select a value of -1 or 1 (over or underweight)\u001b[39;00m\n",
      "\u001b[0;31mKeyboardInterrupt\u001b[0m: "
     ]
    }
   ],
   "source": [
    "was_just_successful = False\n",
    "while(len(succesful) < num):\n",
    "    ## PROBLEM SETUP\n",
    "\n",
    "    while was_just_successful:\n",
    "        for idx in range (0,len(islanders)):\n",
    "            islanders = [1] * 12\n",
    "            rand_value = random.choice([-1, 1])  # randomly select a value of -1 or 1 (over or underweight)\n",
    "            islanders[idx] = rand_value  # assign the random value to the random index\n",
    "\n",
    "            for attempt in range(0,3):\n",
    "                on_seesaw_left = current_path[attempt][0]-1 # subtract one for the indexs\n",
    "                on_seesaw_right = current_path[attempt][1]-1\n",
    "            \n",
    "                sum_left = sum(islanders[:on_seesaw_left])\n",
    "                sum_right = sum(islanders[on_seesaw_left:on_seesaw_right])\n",
    "            \n",
    "                if(sum_left == sum_right):#if they are the same, none of the islanders on the seesaw are different\n",
    "                    islanders = islanders[on_seesaw_right:]\n",
    "                else: #someone in here is different\n",
    "                    islanders = islanders[:on_seesaw_right]\n",
    "        \n",
    "            if len(islanders) == 1:\n",
    "                succesful.append(current_path)\n",
    "            else:\n",
    "                was_just_successful = False\n",
    "\n",
    "            if idx == 11 and len(islanders) == 1: #we've reached the end adn it was good for all!  \n",
    "                succesful.append(current_path) \n",
    "    else:\n",
    "        islanders = [0] * 12\n",
    "        rand_index = random.randint(0, 11)  # randomly select an index between 0 and 11\n",
    "        rand_value = random.choice([-1, 1])  # randomly select a value of -1 or 1 (over or underweight)\n",
    "        islanders[rand_index] = rand_value  # assign the random value to the random index\n",
    "        current_path = []\n",
    "        for attempt in range(0,3):\n",
    "            num_left = len(islanders)\n",
    "            on_seesaw_left = random.randint(0, num_left-1)\n",
    "            on_seesaw_right = random.randint(on_seesaw_left+1, num_left)\n",
    "        \n",
    "            sum_left = sum(islanders[:on_seesaw_left])\n",
    "            sum_right = sum(islanders[on_seesaw_left:on_seesaw_right])\n",
    "\n",
    "            current_path.append([on_seesaw_left+1,on_seesaw_right-on_seesaw_left])\n",
    "        \n",
    "            if(sum_left == sum_right):#if they are the same, none of the islanders on the seesaw are different\n",
    "                islanders = islanders[on_seesaw_right:]\n",
    "            else: #someone in here is different\n",
    "                islanders = islanders[:on_seesaw_right]\n",
    "        if len(islanders) == 1:\n",
    "            was_just_successful = True"
   ]
  },
  {
   "cell_type": "code",
   "execution_count": 44,
   "metadata": {},
   "outputs": [
    {
     "name": "stdout",
     "output_type": "stream",
     "text": [
      "Attempting path: [[5, 2], [5, 2], [1, 5]]\n"
     ]
    }
   ],
   "source": [
    "print(\"Attempting path: \"+str(current_path))"
   ]
  },
  {
   "cell_type": "code",
   "execution_count": 20,
   "metadata": {},
   "outputs": [
    {
     "name": "stdout",
     "output_type": "stream",
     "text": [
      "[[[8, 2], [4, 3], [2, 1]], [[4, 6], [1, 1], [1, 1]], [[4, 2], [3, 2], [1, 1]], [[1, 8], [2, 2], [1, 1]], [[2, 1], [1, 1], [1, 1]], [[3, 1], [2, 2], [1, 1]], [[7, 5], [1, 1], [1, 1]], [[2, 2], [1, 1], [1, 1]], [[1, 12], [9, 2], [1, 1]], [[4, 9], [1, 4], [2, 2]], [[5, 1], [1, 1], [1, 1]], [[2, 4], [1, 2], [1, 1]], [[5, 2], [3, 1], [1, 1]], [[8, 2], [8, 2], [5, 4]], [[5, 1], [3, 2], [1, 1]], [[5, 2], [3, 2], [1, 1]], [[6, 6], [1, 1], [1, 1]], [[6, 6], [1, 1], [1, 1]], [[1, 1], [1, 1], [1, 1]], [[5, 5], [2, 1], [1, 1]], [[5, 1], [2, 2], [2, 1]], [[2, 3], [3, 1], [1, 1]], [[2, 2], [1, 3], [1, 1]], [[4, 2], [1, 1]], [[11, 1], [6, 4], [1, 1]], [[6, 5], [1, 2], [1, 1]], [[1, 2], [1, 1]], [[7, 4], [3, 1], [1, 1]], [[2, 1], [2, 1], [1, 1]], [[1, 9], [5, 2], [3, 3]], [[5, 5], [2, 1]], [[11, 1], [1, 1]], [[5, 2], [1, 3], [1, 1]], [[7, 5]], [[6, 6]], [[5, 2], [4, 2], [3, 2]], [[1, 4], [4, 1], [1, 1]], [[1, 7], [5, 2], [1, 1]], [[1, 11], [1, 1]], [[6, 4], [1, 3], [2, 1]], [[1, 1]], [[7, 4], [6, 1], [1, 1]], [[7, 5], [1, 5], [3, 2]], [[2, 11], [10, 1], [5, 5]], [[3, 4], [4, 2], [3, 2]], [[8, 2], [1, 1]], [[2, 4], [5, 1], [3, 2]], [[11, 1], [1, 1]], [[4, 1], [3, 1]], [[4, 9], [6, 5], [1, 1]], [[2, 2], [2, 1]], [[11, 2], [12, 1], [1, 1]], [[6, 6]], [[7, 5]], [[8, 1], [6, 1], [4, 2]], [[3, 9], [4, 2], [1, 1]], [[8, 4], [1, 5], [3, 2]], [[1, 3], [3, 1], [1, 1]], [[12, 1], [6, 2], [4, 3]], [[9, 1], [6, 3], [4, 4]], [[1, 1]], [[6, 1], [5, 2], [1, 1]], [[6, 4], [1, 1]], [[6, 2], [1, 3], [2, 1]], [[10, 1], [2, 3], [1, 1]], [[11, 1], [1, 1]], [[3, 1], [3, 1], [1, 1]], [[6, 4], [1, 1]], [[5, 5], [1, 1]], [[1, 5], [1, 3], [1, 1]], [[4, 8], [9, 3], [1, 1]], [[9, 4], [7, 2], [5, 3]], [[3, 3], [2, 3], [1, 1]], [[4, 1], [1, 2], [1, 1]], [[4, 3], [3, 3]], [[6, 6]], [[6, 2], [1, 1]], [[11, 1], [5, 3], [4, 3]], [[6, 3], [4, 4]], [[3, 8], [3, 6], [5, 3]], [[3, 4], [5, 2], [1, 1]], [[5, 6], [5, 3], [2, 1]], [[1, 1]], [[4, 1], [2, 1], [1, 1]], [[2, 1], [6, 4]], [[1, 6], [6, 1], [1, 1]], [[1, 2], [1, 1]], [[1, 3], [1, 1]], [[12, 1], [7, 5]], [[5, 3], [4, 2], [1, 1]], [[7, 5]], [[12, 1], [1, 1]], [[1, 1]], [[7, 2], [3, 2], [2, 2]], [[1, 3], [3, 1], [1, 1]], [[6, 6]], [[8, 4], [1, 1]], [[1, 9], [1, 4], [2, 2]], [[3, 1], [1, 3], [2, 1]], [[7, 5]]]\n"
     ]
    }
   ],
   "source": [
    "print(succesful)"
   ]
  },
  {
   "cell_type": "markdown",
   "metadata": {},
   "source": [
    "# Redo Data Analysis!\n",
    "We know everything above works for all numbers!"
   ]
  },
  {
   "cell_type": "code",
   "execution_count": 21,
   "metadata": {},
   "outputs": [],
   "source": [
    "counts = {}\n",
    "for sublist in succesful:\n",
    "    first_idx = frozenset(sublist[0])\n",
    "    counts[first_idx] = counts.get(first_idx,0)+1"
   ]
  },
  {
   "cell_type": "code",
   "execution_count": 22,
   "metadata": {},
   "outputs": [
    {
     "data": {
      "image/png": "[encoded data removed]",
      "text/plain": [
       "<Figure size 640x480 with 1 Axes>"
      ]
     },
     "metadata": {},
     "output_type": "display_data"
    }
   ],
   "source": [
    "plt.bar(range(len(counts)),list(counts.values()),align = 'center')\n",
    "plt.xticks(range(len(counts)),list(counts.keys()),rotation='vertical',fontsize=5)\n",
    "plt.xlabel(\"First Sucessful Attempt Numbers\")\n",
    "plt.ylabel(\"Count\")\n",
    "plt.show()"
   ]
  },
  {
   "cell_type": "code",
   "execution_count": 23,
   "metadata": {},
   "outputs": [
    {
     "ename": "IndexError",
     "evalue": "list index out of range",
     "output_type": "error",
     "traceback": [
      "\u001b[0;31m---------------------------------------------------------------------------\u001b[0m",
      "\u001b[0;31mIndexError\u001b[0m                                Traceback (most recent call last)",
      "Cell \u001b[0;32mIn[23], line 3\u001b[0m\n\u001b[1;32m      1\u001b[0m counts \u001b[38;5;241m=\u001b[39m {}\n\u001b[1;32m      2\u001b[0m \u001b[38;5;28;01mfor\u001b[39;00m sublist \u001b[38;5;129;01min\u001b[39;00m succesful:\n\u001b[0;32m----> 3\u001b[0m     first_idx \u001b[38;5;241m=\u001b[39m \u001b[38;5;28mfrozenset\u001b[39m(\u001b[43msublist\u001b[49m\u001b[43m[\u001b[49m\u001b[38;5;241;43m1\u001b[39;49m\u001b[43m]\u001b[49m)\n\u001b[1;32m      4\u001b[0m     counts[first_idx] \u001b[38;5;241m=\u001b[39m counts\u001b[38;5;241m.\u001b[39mget(first_idx,\u001b[38;5;241m0\u001b[39m)\u001b[38;5;241m+\u001b[39m\u001b[38;5;241m1\u001b[39m\n",
      "\u001b[0;31mIndexError\u001b[0m: list index out of range"
     ]
    }
   ],
   "source": [
    "counts = {}\n",
    "for sublist in succesful:\n",
    "    first_idx = frozenset(sublist[1])\n",
    "    counts[first_idx] = counts.get(first_idx,0)+1"
   ]
  },
  {
   "cell_type": "code",
   "execution_count": 24,
   "metadata": {},
   "outputs": [
    {
     "data": {
      "image/png": "[encoded data removed]",
      "text/plain": [
       "<Figure size 640x480 with 1 Axes>"
      ]
     },
     "metadata": {},
     "output_type": "display_data"
    }
   ],
   "source": [
    "plt.bar(range(len(counts)),list(counts.values()),align = 'center')\n",
    "plt.xticks(range(len(counts)),list(counts.keys()),rotation='vertical',fontsize=5)\n",
    "plt.xlabel(\"Second Sucessful Attempt Numbers\")\n",
    "plt.ylabel(\"Count\")\n",
    "plt.show()"
   ]
  },
  {
   "cell_type": "markdown",
   "metadata": {},
   "source": [
    "# A Few Main Strategies\n",
    "All the above lists in 'successful' all work for any index of where the random person is. Let's work on figuring out how to narrate the strategy"
   ]
  },
  {
   "cell_type": "code",
   "execution_count": 129,
   "metadata": {},
   "outputs": [
    {
     "name": "stdout",
     "output_type": "stream",
     "text": [
      "[[[4, 3], [3, 2], [1, 1]], [[4, 3], [3, 2], [1, 1]], [[4, 3], [3, 2], [1, 1]], [[4, 3], [3, 2], [1, 1]], [[2, 1], [5, 2], [1, 1]], [[2, 1], [5, 2], [1, 1]], [[2, 1], [5, 2], [1, 1]], [[8, 3], [2, 1], [6, 2]], [[8, 3], [2, 1], [6, 2]], [[8, 3], [2, 1], [6, 2]], [[8, 3], [2, 1], [6, 2]], [[8, 3], [2, 1], [6, 2]], [[8, 3], [2, 1], [6, 2]]]\n"
     ]
    }
   ],
   "source": [
    "print(succesful)"
   ]
  },
  {
   "cell_type": "code",
   "execution_count": 25,
   "metadata": {},
   "outputs": [],
   "source": [
    "from collections import Counter"
   ]
  },
  {
   "cell_type": "code",
   "execution_count": 26,
   "metadata": {},
   "outputs": [],
   "source": [
    "tuples = [tuple(x) for x in succesful]"
   ]
  },
  {
   "cell_type": "code",
   "execution_count": 29,
   "metadata": {},
   "outputs": [
    {
     "name": "stdout",
     "output_type": "stream",
     "text": [
      "[[[8, 2], [4, 3], [2, 1]], [[4, 6], [1, 1], [1, 1]], [[4, 2], [3, 2], [1, 1]], [[1, 8], [2, 2], [1, 1]], [[2, 1], [1, 1], [1, 1]], [[3, 1], [2, 2], [1, 1]], [[7, 5], [1, 1], [1, 1]], [[2, 2], [1, 1], [1, 1]], [[1, 12], [9, 2], [1, 1]], [[4, 9], [1, 4], [2, 2]], [[5, 1], [1, 1], [1, 1]], [[2, 4], [1, 2], [1, 1]], [[5, 2], [3, 1], [1, 1]], [[8, 2], [8, 2], [5, 4]], [[5, 1], [3, 2], [1, 1]], [[5, 2], [3, 2], [1, 1]], [[6, 6], [1, 1], [1, 1]], [[6, 6], [1, 1], [1, 1]], [[1, 1], [1, 1], [1, 1]], [[5, 5], [2, 1], [1, 1]], [[5, 1], [2, 2], [2, 1]], [[2, 3], [3, 1], [1, 1]], [[2, 2], [1, 3], [1, 1]], [[4, 2], [1, 1]], [[11, 1], [6, 4], [1, 1]], [[6, 5], [1, 2], [1, 1]], [[1, 2], [1, 1]], [[7, 4], [3, 1], [1, 1]], [[2, 1], [2, 1], [1, 1]], [[1, 9], [5, 2], [3, 3]], [[5, 5], [2, 1]], [[11, 1], [1, 1]], [[5, 2], [1, 3], [1, 1]], [[7, 5]], [[6, 6]], [[5, 2], [4, 2], [3, 2]], [[1, 4], [4, 1], [1, 1]], [[1, 7], [5, 2], [1, 1]], [[1, 11], [1, 1]], [[6, 4], [1, 3], [2, 1]], [[1, 1]], [[7, 4], [6, 1], [1, 1]], [[7, 5], [1, 5], [3, 2]], [[2, 11], [10, 1], [5, 5]], [[3, 4], [4, 2], [3, 2]], [[8, 2], [1, 1]], [[2, 4], [5, 1], [3, 2]], [[11, 1], [1, 1]], [[4, 1], [3, 1]], [[4, 9], [6, 5], [1, 1]], [[2, 2], [2, 1]], [[11, 2], [12, 1], [1, 1]], [[6, 6]], [[7, 5]], [[8, 1], [6, 1], [4, 2]], [[3, 9], [4, 2], [1, 1]], [[8, 4], [1, 5], [3, 2]], [[1, 3], [3, 1], [1, 1]], [[12, 1], [6, 2], [4, 3]], [[9, 1], [6, 3], [4, 4]], [[1, 1]], [[6, 1], [5, 2], [1, 1]], [[6, 4], [1, 1]], [[6, 2], [1, 3], [2, 1]], [[10, 1], [2, 3], [1, 1]], [[11, 1], [1, 1]], [[3, 1], [3, 1], [1, 1]], [[6, 4], [1, 1]], [[5, 5], [1, 1]], [[1, 5], [1, 3], [1, 1]], [[4, 8], [9, 3], [1, 1]], [[9, 4], [7, 2], [5, 3]], [[3, 3], [2, 3], [1, 1]], [[4, 1], [1, 2], [1, 1]], [[4, 3], [3, 3]], [[6, 6]], [[6, 2], [1, 1]], [[11, 1], [5, 3], [4, 3]], [[6, 3], [4, 4]], [[3, 8], [3, 6], [5, 3]], [[3, 4], [5, 2], [1, 1]], [[5, 6], [5, 3], [2, 1]], [[1, 1]], [[4, 1], [2, 1], [1, 1]], [[2, 1], [6, 4]], [[1, 6], [6, 1], [1, 1]], [[1, 2], [1, 1]], [[1, 3], [1, 1]], [[12, 1], [7, 5]], [[5, 3], [4, 2], [1, 1]], [[7, 5]], [[12, 1], [1, 1]], [[1, 1]], [[7, 2], [3, 2], [2, 2]], [[1, 3], [3, 1], [1, 1]], [[6, 6]], [[8, 4], [1, 1]], [[1, 9], [1, 4], [2, 2]], [[3, 1], [1, 3], [2, 1]], [[7, 5]]]\n"
     ]
    }
   ],
   "source": [
    "print(succesful)"
   ]
  },
  {
   "cell_type": "code",
   "execution_count": 39,
   "metadata": {},
   "outputs": [
    {
     "name": "stdout",
     "output_type": "stream",
     "text": [
      "[[8, 2], [4, 3], [2, 1]]\n",
      "[[4, 6], [1, 1], [1, 1]]\n",
      "[[4, 2], [3, 2], [1, 1]]\n",
      "[[1, 8], [2, 2], [1, 1]]\n",
      "[[2, 1], [1, 1], [1, 1]]\n",
      "[[3, 1], [2, 2], [1, 1]]\n",
      "[[7, 5], [1, 1], [1, 1]]\n",
      "[[2, 2], [1, 1], [1, 1]]\n",
      "[[1, 12], [9, 2], [1, 1]]\n",
      "[[4, 9], [1, 4], [2, 2]]\n",
      "[[5, 1], [1, 1], [1, 1]]\n",
      "[[2, 4], [1, 2], [1, 1]]\n",
      "[[5, 2], [3, 1], [1, 1]]\n",
      "[[8, 2], [8, 2], [5, 4]]\n",
      "[[5, 1], [3, 2], [1, 1]]\n",
      "[[5, 2], [3, 2], [1, 1]]\n",
      "[[6, 6], [1, 1], [1, 1]]\n",
      "[[6, 6], [1, 1], [1, 1]]\n",
      "[[1, 1], [1, 1], [1, 1]]\n",
      "[[5, 5], [2, 1], [1, 1]]\n",
      "[[5, 1], [2, 2], [2, 1]]\n",
      "[[2, 3], [3, 1], [1, 1]]\n",
      "[[2, 2], [1, 3], [1, 1]]\n",
      "[[4, 2], [1, 1]]\n"
     ]
    },
    {
     "ename": "IndexError",
     "evalue": "list index out of range",
     "output_type": "error",
     "traceback": [
      "\u001b[0;31m---------------------------------------------------------------------------\u001b[0m",
      "\u001b[0;31mIndexError\u001b[0m                                Traceback (most recent call last)",
      "Cell \u001b[0;32mIn[39], line 4\u001b[0m\n\u001b[1;32m      2\u001b[0m \u001b[38;5;28;01mfor\u001b[39;00m sublist \u001b[38;5;129;01min\u001b[39;00m succesful:\n\u001b[1;32m      3\u001b[0m     \u001b[38;5;28mprint\u001b[39m(sublist)\n\u001b[0;32m----> 4\u001b[0m     first_idx \u001b[38;5;241m=\u001b[39m \u001b[38;5;28mtuple\u001b[39m([sublist[\u001b[38;5;241m0\u001b[39m][\u001b[38;5;241m0\u001b[39m],sublist[\u001b[38;5;241m0\u001b[39m][\u001b[38;5;241m1\u001b[39m],sublist[\u001b[38;5;241m1\u001b[39m][\u001b[38;5;241m0\u001b[39m],sublist[\u001b[38;5;241m1\u001b[39m][\u001b[38;5;241m1\u001b[39m],\u001b[43msublist\u001b[49m\u001b[43m[\u001b[49m\u001b[38;5;241;43m2\u001b[39;49m\u001b[43m]\u001b[49m[\u001b[38;5;241m0\u001b[39m],sublist[\u001b[38;5;241m2\u001b[39m][\u001b[38;5;241m1\u001b[39m]])\n\u001b[1;32m      5\u001b[0m     counts[first_idx] \u001b[38;5;241m=\u001b[39m counts\u001b[38;5;241m.\u001b[39mget(first_idx,\u001b[38;5;241m0\u001b[39m)\u001b[38;5;241m+\u001b[39m\u001b[38;5;241m1\u001b[39m\n",
      "\u001b[0;31mIndexError\u001b[0m: list index out of range"
     ]
    }
   ],
   "source": [
    "counts = {}\n",
    "for sublist in succesful:\n",
    "    print(sublist)\n",
    "    first_idx = tuple([sublist[0][0],sublist[0][1],sublist[1][0],sublist[1][1],sublist[2][0],sublist[2][1]])\n",
    "    counts[first_idx] = counts.get(first_idx,0)+1"
   ]
  },
  {
   "cell_type": "code",
   "execution_count": 28,
   "metadata": {},
   "outputs": [
    {
     "data": {
      "image/png": "[encoded data removed]",
      "text/plain": [
       "<Figure size 640x480 with 1 Axes>"
      ]
     },
     "metadata": {},
     "output_type": "display_data"
    }
   ],
   "source": [
    "plt.bar(range(len(counts)),list(counts.values()),align = 'center')\n",
    "plt.xticks(range(len(counts)),list(counts.keys()),rotation='horizontal',fontsize=5)\n",
    "plt.xlabel(\"Sucessful Attempts\")\n",
    "plt.ylabel(\"Count\")\n",
    "plt.show()"
   ]
  },
  {
   "cell_type": "markdown",
   "metadata": {},
   "source": [
    "### I would like to craete a descion tree to show the optiosn!\n",
    "Here are some notes on the above attempts:\n",
    "- [6,2],[3,1],[1,1]\n",
    "- [7,2],[1,1],[1,1]\n",
    "- [10,2],[1,1],[1,1]\n",
    "- [6,2],[5,1],[1,1]\n",
    "\n",
    "These all wish on the luck that the random person gets called out very quickly and can't be gauranteed to be right"
   ]
  },
  {
   "cell_type": "code",
   "execution_count": null,
   "metadata": {},
   "outputs": [],
   "source": [
    "# [6,2],[3,1],[1,1]\n"
   ]
  },
  {
   "cell_type": "markdown",
   "metadata": {},
   "source": [
    "# Ideas are wrong! Above wouldn't work, let's try again"
   ]
  },
  {
   "cell_type": "code",
   "execution_count": 45,
   "metadata": {},
   "outputs": [
    {
     "name": "stdout",
     "output_type": "stream",
     "text": [
      "Attempting path: [[12, 1], [1, 1], [1, 1]]\n",
      "at index 0\n",
      "Failed at index: 0\n",
      "Attempting path: [[1, 3], [2, 1], [1, 1]]\n",
      "at index 0\n",
      "Failed at index: 0\n"
     ]
    },
    {
     "ename": "ValueError",
     "evalue": "empty range for randrange() (0, 0, 0)",
     "output_type": "error",
     "traceback": [
      "\u001b[0;31m---------------------------------------------------------------------------\u001b[0m",
      "\u001b[0;31mValueError\u001b[0m                                Traceback (most recent call last)",
      "Cell \u001b[0;32mIn[45], line 46\u001b[0m\n\u001b[1;32m     44\u001b[0m \u001b[38;5;28;01mfor\u001b[39;00m attempt \u001b[38;5;129;01min\u001b[39;00m \u001b[38;5;28mrange\u001b[39m(\u001b[38;5;241m0\u001b[39m,\u001b[38;5;241m3\u001b[39m):\n\u001b[1;32m     45\u001b[0m     num_left \u001b[38;5;241m=\u001b[39m \u001b[38;5;28mlen\u001b[39m(islanders)\n\u001b[0;32m---> 46\u001b[0m     on_seesaw_left \u001b[38;5;241m=\u001b[39m \u001b[43mrandom\u001b[49m\u001b[38;5;241;43m.\u001b[39;49m\u001b[43mrandint\u001b[49m\u001b[43m(\u001b[49m\u001b[38;5;241;43m0\u001b[39;49m\u001b[43m,\u001b[49m\u001b[43m \u001b[49m\u001b[43mnum_left\u001b[49m\u001b[38;5;241;43m-\u001b[39;49m\u001b[38;5;241;43m1\u001b[39;49m\u001b[43m)\u001b[49m\n\u001b[1;32m     47\u001b[0m     on_seesaw_right \u001b[38;5;241m=\u001b[39m random\u001b[38;5;241m.\u001b[39mrandint(on_seesaw_left\u001b[38;5;241m+\u001b[39m\u001b[38;5;241m1\u001b[39m, num_left)\n\u001b[1;32m     49\u001b[0m     sum_left \u001b[38;5;241m=\u001b[39m \u001b[38;5;28msum\u001b[39m(islanders[:on_seesaw_left])\n",
      "File \u001b[0;32m~/miniconda3/lib/python3.9/random.py:338\u001b[0m, in \u001b[0;36mRandom.randint\u001b[0;34m(self, a, b)\u001b[0m\n\u001b[1;32m    334\u001b[0m \u001b[39mdef\u001b[39;00m \u001b[39mrandint\u001b[39m(\u001b[39mself\u001b[39m, a, b):\n\u001b[1;32m    335\u001b[0m \u001b[39m    \u001b[39m\u001b[39m\"\"\"Return random integer in range [a, b], including both end points.\u001b[39;00m\n\u001b[1;32m    336\u001b[0m \u001b[39m    \"\"\"\u001b[39;00m\n\u001b[0;32m--> 338\u001b[0m     \u001b[39mreturn\u001b[39;00m \u001b[39mself\u001b[39;49m\u001b[39m.\u001b[39;49mrandrange(a, b\u001b[39m+\u001b[39;49m\u001b[39m1\u001b[39;49m)\n",
      "File \u001b[0;32m~/miniconda3/lib/python3.9/random.py:316\u001b[0m, in \u001b[0;36mRandom.randrange\u001b[0;34m(self, start, stop, step)\u001b[0m\n\u001b[1;32m    314\u001b[0m     \u001b[39mreturn\u001b[39;00m istart \u001b[39m+\u001b[39m \u001b[39mself\u001b[39m\u001b[39m.\u001b[39m_randbelow(width)\n\u001b[1;32m    315\u001b[0m \u001b[39mif\u001b[39;00m step \u001b[39m==\u001b[39m \u001b[39m1\u001b[39m:\n\u001b[0;32m--> 316\u001b[0m     \u001b[39mraise\u001b[39;00m \u001b[39mValueError\u001b[39;00m(\u001b[39m\"\u001b[39m\u001b[39mempty range for randrange() (\u001b[39m\u001b[39m%d\u001b[39;00m\u001b[39m, \u001b[39m\u001b[39m%d\u001b[39;00m\u001b[39m, \u001b[39m\u001b[39m%d\u001b[39;00m\u001b[39m)\u001b[39m\u001b[39m\"\u001b[39m \u001b[39m%\u001b[39m (istart, istop, width))\n\u001b[1;32m    318\u001b[0m \u001b[39m# Non-unit step argument supplied.\u001b[39;00m\n\u001b[1;32m    319\u001b[0m istep \u001b[39m=\u001b[39m \u001b[39mint\u001b[39m(step)\n",
      "\u001b[0;31mValueError\u001b[0m: empty range for randrange() (0, 0, 0)"
     ]
    }
   ],
   "source": [
    "import random\n",
    "\n",
    "succesful = []\n",
    "num = 3\n",
    "\n",
    "was_just_successful = False\n",
    "while(len(succesful) < num):\n",
    "    ## PROBLEM SETUP\n",
    "\n",
    "    while was_just_successful:\n",
    "        print(\"Attempting path: \"+str(current_path))\n",
    "        for idx in range (0,len(islanders)):\n",
    "            print(\"at index \"+ str(idx))\n",
    "            islanders = [1] * 12\n",
    "            rand_value = random.choice([0.5, 1.5])  # randomly select a value of -1 or 1 (over or underweight)\n",
    "            islanders[idx] = rand_value  # assign the random value to the random index\n",
    "\n",
    "            for attempt in range(0,3):\n",
    "                on_seesaw_left = current_path[attempt][0]-1 # subtract one for the indexs\n",
    "                on_seesaw_right = current_path[attempt][1]-1\n",
    "            \n",
    "                sum_left = sum(islanders[:on_seesaw_left])\n",
    "                sum_right = sum(islanders[on_seesaw_left:on_seesaw_right])\n",
    "            \n",
    "                if(sum_left == sum_right):#if they are the same, none of the islanders on the seesaw are different\n",
    "                    islanders = islanders[on_seesaw_right:]\n",
    "                else: #someone in here is different\n",
    "                    islanders = islanders[:on_seesaw_right]\n",
    "        \n",
    "            if len(islanders) == 1:\n",
    "                succesful.append(current_path)\n",
    "            else:\n",
    "                was_just_successful = False\n",
    "                print(\"Failed at index: \"+str(idx))\n",
    "\n",
    "            if idx == 11 and len(islanders) == 1: #we've reached the end and it was good for all!  \n",
    "                succesful.append(current_path) \n",
    "    else:\n",
    "        islanders = [1] * 12\n",
    "        rand_index = random.randint(0, 11)  # randomly select an index between 0 and 11\n",
    "        rand_value = random.choice([0.5, 1.5])  # randomly select a value of -1 or 1 (over or underweight)\n",
    "        islanders[rand_index] = rand_value  # assign the random value to the random index\n",
    "        current_path = []\n",
    "        for attempt in range(0,3):\n",
    "            num_left = len(islanders)\n",
    "            on_seesaw_left = random.randint(0, num_left-1)\n",
    "            on_seesaw_right = random.randint(on_seesaw_left+1, num_left)\n",
    "        \n",
    "            sum_left = sum(islanders[:on_seesaw_left])\n",
    "            print(\"sum left: \"+str(sum_left))\n",
    "\n",
    "            sum_right = sum(islanders[on_seesaw_left:on_seesaw_right])\n",
    "            print(\"sum right: \"+str(sum_left))\n",
    "\n",
    "            current_path.append([on_seesaw_left+1,on_seesaw_right-on_seesaw_left])\n",
    "        \n",
    "            if(sum_left == sum_right):#if they are the same, none of the islanders on the seesaw are different\n",
    "                islanders = islanders[on_seesaw_right:]\n",
    "            else: #someone in here is different\n",
    "                islanders = islanders[:on_seesaw_right]\n",
    "        if len(islanders) == 1:\n",
    "            was_just_successful = True\n",
    "\n",
    "print(succesful)"
   ]
  },
  {
   "cell_type": "code",
   "execution_count": null,
   "metadata": {},
   "outputs": [],
   "source": []
  }
 ],
 "metadata": {
  "kernelspec": {
   "display_name": "Python 3.9.7 ('base')",
   "language": "python",
   "name": "python3"
  },
  "language_info": {
   "codemirror_mode": {
    "name": "ipython",
    "version": 3
   },
   "file_extension": ".py",
   "mimetype": "text/x-python",
   "name": "python",
   "nbconvert_exporter": "python",
   "pygments_lexer": "ipython3",
   "version": "3.9.7"
  },
  "orig_nbformat": 4,
  "vscode": {
   "interpreter": {
    "hash": "74a37a82a1045f722fa39b5e25843ead82fe26f95a8a3d59b6a29879869666f7"
   }
  }
 },
 "nbformat": 4,
 "nbformat_minor": 2
}
